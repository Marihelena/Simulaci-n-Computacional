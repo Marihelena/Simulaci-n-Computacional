{
 "cells": [
  {
   "cell_type": "markdown",
   "metadata": {},
   "source": [
    "### Método de combinación de generadores multiplicativos de Wichmann y Hill"
   ]
  },
  {
   "cell_type": "code",
   "execution_count": 11,
   "metadata": {
    "collapsed": false
   },
   "outputs": [
    {
     "name": "stdout",
     "output_type": "stream",
     "text": [
      "Ingrese la cantidad de numeros a generar: 10\n",
      "Ingrese el valor semilla para el generador Xi: 3\n",
      "Ingrese el valor semilla para el generador Yi: 4\n",
      "Ingrese el valor semilla para el generador Zi: 5\n",
      "\n",
      "u1 = 0.0676805860298\n",
      "u2 = 0.568049710036\n",
      "u3 = 0.275717288572\n",
      "u4 = 0.623677667228\n",
      "u5 = 0.746821901351\n",
      "u6 = 0.338862359003\n",
      "u7 = 0.408805153167\n",
      "u8 = 0.412818188772\n",
      "u9 = 0.919595829417\n",
      "u10 = 0.633544662818\n"
     ]
    }
   ],
   "source": [
    "veces = input(\"Ingrese la cantidad de numeros a generar: \")\n",
    "X0 = input(\"Ingrese el valor semilla para el generador Xi: \")\n",
    "Y0 = input(\"Ingrese el valor semilla para el generador Yi: \")\n",
    "Z0 = input(\"Ingrese el valor semilla para el generador Zi: \")\n",
    "print \"\"\n",
    "for i in range(1,veces+1):\n",
    "    xi = (171*X0)%30269   #formula general \n",
    "    yi = (172*Y0)%30307   #formula general \n",
    "    zi = (170*Z0)%30323   #formula general \n",
    "    \n",
    "    ui = (xi/30269.0 + yi/30307.0 + zi/30323.0)%1   #formula general\n",
    "    print \"u\" + str(i) + \" = \" + str(ui)\n",
    "    X0 = xi\n",
    "    Y0 = yi\n",
    "    Z0 = zi"
   ]
  },
  {
   "cell_type": "code",
   "execution_count": null,
   "metadata": {
    "collapsed": true
   },
   "outputs": [],
   "source": []
  }
 ],
 "metadata": {
  "kernelspec": {
   "display_name": "Python 2",
   "language": "python",
   "name": "python2"
  },
  "language_info": {
   "codemirror_mode": {
    "name": "ipython",
    "version": 2
   },
   "file_extension": ".py",
   "mimetype": "text/x-python",
   "name": "python",
   "nbconvert_exporter": "python",
   "pygments_lexer": "ipython2",
   "version": "2.7.10"
  }
 },
 "nbformat": 4,
 "nbformat_minor": 0
}
