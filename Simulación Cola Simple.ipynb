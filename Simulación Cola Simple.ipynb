{
 "cells": [
  {
   "cell_type": "markdown",
   "metadata": {},
   "source": [
    "## Simulación de un sistema de cola simple\n",
    "#### Simulación de un sistema simple de colas con una entrada y un servidor, donde las llegadas son los números de clientes en una unidad de tiempo con distribución de Poisson con parámetro \\lambda y numero de clientes atendidos por unidad de tiempo del servidor con distribución normal con parámetros \\miu, \\sigma. Para calcular tiempos promedios de los clientes en cola, en el servidor y en el sistema.¶"
   ]
  },
  {
   "cell_type": "code",
   "execution_count": 2,
   "metadata": {
    "collapsed": false
   },
   "outputs": [
    {
     "name": "stdout",
     "output_type": "stream",
     "text": [
      "\n",
      "El Tiempo promedio de en la cola es= 0.0 unidades de tiempo\n",
      "\n",
      "El Tiempo de servicio de un cliente  = 0.25 unidades de tiempo\n",
      "\n",
      "El Tiempo de espera de un cliente en el sistema = 0.25 unidades de tiempo\n",
      "\n",
      "\n",
      "El Tiempo promedio de en la cola es= 0.2 unidades de tiempo\n",
      "\n",
      "El Tiempo de servicio de un cliente  = 0.142857142857 unidades de tiempo\n",
      "\n",
      "El Tiempo de espera de un cliente en el sistema = 0.342857142857 unidades de tiempo\n"
     ]
    }
   ],
   "source": [
    "#Distribuciones de tasas de llegada del sistema Poisson(landa)\n",
    "#tasa de servicios Normal(miu,sigma).\n",
    "def cola(landa, miu, sigma):\n",
    "    if miu>landa:\n",
    "        p = float(landa)/float(miu) #Probabilidad de hallar el sistema ocupado (p). utilizacion del sistema\n",
    "        lq1 = ((float(landa)*float(sigma))**2 + p**2) / (2*(1-p))  #Número promedio de clientes en la cola (lq).\n",
    "        lq= (landa**2)/(miu*(miu-landa))\n",
    "        wq = lq/float(landa) #Tiempo promedio de espera de un cliente en la cola (wq).\n",
    "        w = wq + (1/float(miu)) #Tiempo promedio de espera de un cliente en el sistema(w).\n",
    "        print '\\nEl Tiempo promedio de en la cola es= ' + str(wq) +' unidades de tiempo'\n",
    "        print '\\nEl Tiempo de servicio de un cliente  = ' + str(1/float(miu)) +' unidades de tiempo'\n",
    "        print '\\nEl Tiempo de espera de un cliente en el sistema = ' + str(w) +' unidades de tiempo'\n",
    "    else:\n",
    "        print 'Escoja un valor de miu mayor que lambda'\n",
    "# Simulación de una cola simple con Distribución de Servicios Normal(4,2) y Distribución de Llegadas Poisson(2):\n",
    "cola(2,4,2);\n",
    "print \"\"\n",
    "# Simulación de una cola simple con Distribución de Servicios Normal(7,1) y Distribución de Llegadas Poisson(5):\n",
    "cola(5,7,1);\n"
   ]
  },
  {
   "cell_type": "code",
   "execution_count": null,
   "metadata": {
    "collapsed": true
   },
   "outputs": [],
   "source": []
  }
 ],
 "metadata": {
  "kernelspec": {
   "display_name": "Python 2",
   "language": "python",
   "name": "python2"
  },
  "language_info": {
   "codemirror_mode": {
    "name": "ipython",
    "version": 2
   },
   "file_extension": ".py",
   "mimetype": "text/x-python",
   "name": "python",
   "nbconvert_exporter": "python",
   "pygments_lexer": "ipython2",
   "version": "2.7.11"
  }
 },
 "nbformat": 4,
 "nbformat_minor": 0
}
