{
 "cells": [
  {
   "cell_type": "markdown",
   "metadata": {},
   "source": [
    "### Muestra si el ciclo es completo o incompleto"
   ]
  },
  {
   "cell_type": "code",
   "execution_count": null,
   "metadata": {
    "collapsed": true
   },
   "outputs": [],
   "source": [
    "def mixedMethod(x, a, c, mod):\n",
    "    b= 0\n",
    "    ciclo= 0\n",
    "    \n",
    "    while(b!= x):\n",
    "        if (ciclo== 0):\n",
    "            b= x\n",
    "        x = (a * x + c) % mod\n",
    "        print(x)\n",
    "        ciclo = ciclo+ 1\n",
    " \n",
    "    if(ciclo== mod):\n",
    "        print(\"El ciclo es completo: \", ciclo)\n",
    "    else:\n",
    "        print(\"El ciclo es incompleto:\", ciclo)\n",
    " \n",
    "def main():\n",
    "    x = int(raw_input(\"Introduce el valor de la semilla: \"))\n",
    "    a = int(raw_input(\"Introduce el valor del multiplicador: \"))\n",
    "    c = int(raw_input(\"Introduce el valor de la constante aditiva: \"))\n",
    "    m = int(raw_input(\"Introduce el valor del modulo: \"))\n",
    "    mixedMethod(x,a,c,m)\n",
    " \n",
    "if __name__ == \"__main__\":\n",
    "    main()"
   ]
  }
 ],
 "metadata": {
  "kernelspec": {
   "display_name": "Python 2",
   "language": "python",
   "name": "python2"
  },
  "language_info": {
   "codemirror_mode": {
    "name": "ipython",
    "version": 2
   },
   "file_extension": ".py",
   "mimetype": "text/x-python",
   "name": "python",
   "nbconvert_exporter": "python",
   "pygments_lexer": "ipython2",
   "version": "2.7.10"
  }
 },
 "nbformat": 4,
 "nbformat_minor": 0
}
